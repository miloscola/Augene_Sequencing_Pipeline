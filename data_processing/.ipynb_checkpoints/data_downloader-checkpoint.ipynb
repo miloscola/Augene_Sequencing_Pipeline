{
 "cells": [
  {
   "cell_type": "code",
   "execution_count": 1,
   "metadata": {},
   "outputs": [
    {
     "name": "stdout",
     "output_type": "stream",
     "text": [
      "Collecting gdown\n",
      "  Downloading gdown-4.7.3-py3-none-any.whl (16 kB)\n",
      "Collecting tqdm\n",
      "  Downloading tqdm-4.64.1-py2.py3-none-any.whl (78 kB)\n",
      "\u001b[K     |████████████████████████████████| 78 kB 2.8 MB/s eta 0:00:01\n",
      "\u001b[?25hCollecting filelock\n",
      "  Downloading filelock-3.4.1-py3-none-any.whl (9.9 kB)\n",
      "Requirement already satisfied: six in /home/miloscola/anaconda3/envs/qiime2/lib/python3.6/site-packages (from gdown) (1.15.0)\n",
      "Requirement already satisfied: requests[socks] in /home/miloscola/anaconda3/envs/qiime2/lib/python3.6/site-packages (from gdown) (2.24.0)\n",
      "Collecting beautifulsoup4\n",
      "  Downloading beautifulsoup4-4.12.3-py3-none-any.whl (147 kB)\n",
      "\u001b[K     |████████████████████████████████| 147 kB 37.9 MB/s eta 0:00:01\n",
      "\u001b[?25hCollecting importlib-resources; python_version < \"3.7\"\n",
      "  Downloading importlib_resources-5.4.0-py3-none-any.whl (28 kB)\n",
      "Requirement already satisfied: idna<3,>=2.5 in /home/miloscola/anaconda3/envs/qiime2/lib/python3.6/site-packages (from requests[socks]->gdown) (2.10)\n",
      "Requirement already satisfied: chardet<4,>=3.0.2 in /home/miloscola/anaconda3/envs/qiime2/lib/python3.6/site-packages (from requests[socks]->gdown) (3.0.4)\n",
      "Requirement already satisfied: urllib3!=1.25.0,!=1.25.1,<1.26,>=1.21.1 in /home/miloscola/anaconda3/envs/qiime2/lib/python3.6/site-packages (from requests[socks]->gdown) (1.25.10)\n",
      "Requirement already satisfied: certifi>=2017.4.17 in /home/miloscola/anaconda3/envs/qiime2/lib/python3.6/site-packages (from requests[socks]->gdown) (2021.5.30)\n",
      "Requirement already satisfied: PySocks!=1.5.7,>=1.5.6; extra == \"socks\" in /home/miloscola/anaconda3/envs/qiime2/lib/python3.6/site-packages (from requests[socks]->gdown) (1.7.1)\n",
      "Collecting soupsieve>1.2\n",
      "  Downloading soupsieve-2.3.2.post1-py3-none-any.whl (37 kB)\n",
      "Requirement already satisfied: zipp>=3.1.0; python_version < \"3.10\" in /home/miloscola/anaconda3/envs/qiime2/lib/python3.6/site-packages (from importlib-resources; python_version < \"3.7\"->tqdm->gdown) (3.1.0)\n",
      "Installing collected packages: importlib-resources, tqdm, filelock, soupsieve, beautifulsoup4, gdown\n",
      "Successfully installed beautifulsoup4-4.12.3 filelock-3.4.1 gdown-4.7.3 importlib-resources-5.4.0 soupsieve-2.3.2.post1 tqdm-4.64.1\n"
     ]
    }
   ],
   "source": [
    "!pip install gdown"
   ]
  },
  {
   "cell_type": "code",
   "execution_count": 1,
   "metadata": {},
   "outputs": [
    {
     "name": "stderr",
     "output_type": "stream",
     "text": [
      "/home/miloscola/anaconda3/envs/qiime2/lib/python3.6/site-packages/gdown/parse_url.py:48: UserWarning: You specified a Google Drive link that is not the correct link to download a file. You might want to try `--fuzzy` option or the following url: https://drive.google.com/uc?id=121rh1w9dyncXvMZ9510XNaX6nGSHcJ_e\n",
      "  url=\"https://drive.google.com/uc?id={}\".format(file_id)\n",
      "Downloading...\n",
      "From: https://drive.google.com/file/d/121rh1w9dyncXvMZ9510XNaX6nGSHcJ_e/view?usp=drive_link\n",
      "To: /home/miloscola/augene/aggit2/data_processing/qiiime2_data/taxonomy_1.qza\n",
      "83.7kB [00:00, 349MB/s]\n",
      "/home/miloscola/anaconda3/envs/qiime2/lib/python3.6/site-packages/gdown/parse_url.py:48: UserWarning: You specified a Google Drive link that is not the correct link to download a file. You might want to try `--fuzzy` option or the following url: https://drive.google.com/uc?id=19ZF6UC61POCghvQtC5C5DFqpGa07Vi8s\n",
      "  url=\"https://drive.google.com/uc?id={}\".format(file_id)\n",
      "Downloading...\n",
      "From: https://drive.google.com/file/d/19ZF6UC61POCghvQtC5C5DFqpGa07Vi8s/view?usp=drive_link\n",
      "To: /home/miloscola/augene/aggit2/data_processing/qiiime2_data/taxonomy_2.qza\n",
      "83.8kB [00:00, 148MB/s]\n",
      "/home/miloscola/anaconda3/envs/qiime2/lib/python3.6/site-packages/gdown/parse_url.py:48: UserWarning: You specified a Google Drive link that is not the correct link to download a file. You might want to try `--fuzzy` option or the following url: https://drive.google.com/uc?id=1xRsacfCWx6TN5Eb1gZJg1Zs-_vQ2Q5SM\n",
      "  url=\"https://drive.google.com/uc?id={}\".format(file_id)\n",
      "Downloading...\n",
      "From: https://drive.google.com/file/d/1xRsacfCWx6TN5Eb1gZJg1Zs-_vQ2Q5SM/view?usp=drive_link\n",
      "To: /home/miloscola/augene/aggit2/data_processing/kraken_data/SRR14143424.bracken\n",
      "83.3kB [00:00, 197MB/s]\n",
      "/home/miloscola/anaconda3/envs/qiime2/lib/python3.6/site-packages/gdown/parse_url.py:48: UserWarning: You specified a Google Drive link that is not the correct link to download a file. You might want to try `--fuzzy` option or the following url: https://drive.google.com/uc?id=1DAREb4a206ZvBcZEybfboOSNEtoUdiPy\n",
      "  url=\"https://drive.google.com/uc?id={}\".format(file_id)\n",
      "Downloading...\n",
      "From: https://drive.google.com/file/d/1DAREb4a206ZvBcZEybfboOSNEtoUdiPy/view?usp=drive_link\n",
      "To: /home/miloscola/augene/aggit2/data_processing/kraken_data/SRR14092310.bracken\n",
      "83.3kB [00:00, 230MB/s]\n",
      "/home/miloscola/anaconda3/envs/qiime2/lib/python3.6/site-packages/gdown/parse_url.py:48: UserWarning: You specified a Google Drive link that is not the correct link to download a file. You might want to try `--fuzzy` option or the following url: https://drive.google.com/uc?id=1rrQmS1tJE3gW-D7CaF1Y2jTN30FCdam1\n",
      "  url=\"https://drive.google.com/uc?id={}\".format(file_id)\n",
      "Downloading...\n",
      "From: https://drive.google.com/file/d/1rrQmS1tJE3gW-D7CaF1Y2jTN30FCdam1/view?usp=drive_link\n",
      "To: /home/miloscola/augene/aggit2/data_processing/kraken_data/SRR14092160.bracken\n",
      "83.3kB [00:00, 367MB/s]\n"
     ]
    },
    {
     "data": {
      "text/plain": [
       "'kraken_data/SRR14092160.bracken'"
      ]
     },
     "execution_count": 1,
     "metadata": {},
     "output_type": "execute_result"
    }
   ],
   "source": [
    "import gdown\n",
    "import os\n",
    "\n",
    "os.makedirs(\"qiiime2_data\", exist_ok=True)\n",
    "os.makedirs(\"kraken_data\", exist_ok=True)\n",
    "\n",
    "url = f'https://drive.google.com/file/d/1xRsacfCWx6TN5Eb1gZJg1Zs-_vQ2Q5SM/view?usp=drive_link'\n",
    "output = 'kraken_data/SRR14143424.bracken'\n",
    "\n",
    "gdown.download(url, output, quiet=False)\n",
    "\n",
    "url = f'https://drive.google.com/file/d/1DAREb4a206ZvBcZEybfboOSNEtoUdiPy/view?usp=drive_link'\n",
    "output = 'kraken_data/SRR14092310.bracken'\n",
    "\n",
    "gdown.download(url, output, quiet=False)\n",
    "\n",
    "url = f'https://drive.google.com/file/d/1rrQmS1tJE3gW-D7CaF1Y2jTN30FCdam1/view?usp=drive_link'\n",
    "output = 'kraken_data/SRR14092160.bracken'\n",
    "\n",
    "gdown.download(url, output, quiet=False)"
   ]
  },
  {
   "cell_type": "code",
   "execution_count": null,
   "metadata": {},
   "outputs": [],
   "source": []
  }
 ],
 "metadata": {
  "kernelspec": {
   "display_name": "Python 3 (ipykernel)",
   "language": "python",
   "name": "python3"
  },
  "language_info": {
   "codemirror_mode": {
    "name": "ipython",
    "version": 3
   },
   "file_extension": ".py",
   "mimetype": "text/x-python",
   "name": "python",
   "nbconvert_exporter": "python",
   "pygments_lexer": "ipython3",
   "version": "3.6.10"
  }
 },
 "nbformat": 4,
 "nbformat_minor": 4
}
