{
 "cells": [
  {
   "cell_type": "code",
   "execution_count": 8,
   "metadata": {},
   "outputs": [
    {
     "name": "stdout",
     "output_type": "stream",
     "text": [
      "Requirement already satisfied: gdown in /home/jacquelineyang/miniconda3/envs/qiime2/lib/python3.6/site-packages (4.7.3)\n",
      "Requirement already satisfied: tqdm in /home/jacquelineyang/miniconda3/envs/qiime2/lib/python3.6/site-packages (from gdown) (4.64.1)\n",
      "Requirement already satisfied: filelock in /home/jacquelineyang/miniconda3/envs/qiime2/lib/python3.6/site-packages (from gdown) (3.4.1)\n",
      "Requirement already satisfied: requests[socks] in /home/jacquelineyang/miniconda3/envs/qiime2/lib/python3.6/site-packages (from gdown) (2.24.0)\n",
      "Requirement already satisfied: beautifulsoup4 in /home/jacquelineyang/miniconda3/envs/qiime2/lib/python3.6/site-packages (from gdown) (4.12.3)\n",
      "Requirement already satisfied: six in /home/jacquelineyang/miniconda3/envs/qiime2/lib/python3.6/site-packages (from gdown) (1.15.0)\n",
      "Requirement already satisfied: importlib-resources; python_version < \"3.7\" in /home/jacquelineyang/miniconda3/envs/qiime2/lib/python3.6/site-packages (from tqdm->gdown) (5.4.0)\n",
      "Requirement already satisfied: urllib3!=1.25.0,!=1.25.1,<1.26,>=1.21.1 in /home/jacquelineyang/miniconda3/envs/qiime2/lib/python3.6/site-packages (from requests[socks]->gdown) (1.25.10)\n",
      "Requirement already satisfied: certifi>=2017.4.17 in /home/jacquelineyang/miniconda3/envs/qiime2/lib/python3.6/site-packages (from requests[socks]->gdown) (2021.5.30)\n",
      "Requirement already satisfied: idna<3,>=2.5 in /home/jacquelineyang/miniconda3/envs/qiime2/lib/python3.6/site-packages (from requests[socks]->gdown) (2.10)\n",
      "Requirement already satisfied: chardet<4,>=3.0.2 in /home/jacquelineyang/miniconda3/envs/qiime2/lib/python3.6/site-packages (from requests[socks]->gdown) (3.0.4)\n",
      "Requirement already satisfied: PySocks!=1.5.7,>=1.5.6; extra == \"socks\" in /home/jacquelineyang/miniconda3/envs/qiime2/lib/python3.6/site-packages (from requests[socks]->gdown) (1.7.1)\n",
      "Requirement already satisfied: soupsieve>1.2 in /home/jacquelineyang/miniconda3/envs/qiime2/lib/python3.6/site-packages (from beautifulsoup4->gdown) (2.3.2.post1)\n",
      "Requirement already satisfied: zipp>=3.1.0; python_version < \"3.10\" in /home/jacquelineyang/miniconda3/envs/qiime2/lib/python3.6/site-packages (from importlib-resources; python_version < \"3.7\"->tqdm->gdown) (3.1.0)\n"
     ]
    }
   ],
   "source": [
    "!pip install gdown"
   ]
  },
  {
   "cell_type": "code",
   "execution_count": 9,
   "metadata": {},
   "outputs": [
    {
     "name": "stderr",
     "output_type": "stream",
     "text": [
      "Downloading...\n",
      "From: https://drive.google.com/file/d/1xRsacfCWx6TN5Eb1gZJg1Zs-_vQ2Q5SM/view?usp=drive_link\n",
      "To: /home/jacquelineyang/augene_beauty/data_processing/kraken_data/SRR14143424.bracken\n",
      "86.5kB [00:00, 269MB/s]\n",
      "Downloading...\n",
      "From: https://drive.google.com/file/d/1DAREb4a206ZvBcZEybfboOSNEtoUdiPy/view?usp=drive_link\n",
      "To: /home/jacquelineyang/augene_beauty/data_processing/kraken_data/SRR14092310.bracken\n",
      "86.5kB [00:00, 458MB/s]\n",
      "Downloading...\n",
      "From: https://drive.google.com/file/d/1rrQmS1tJE3gW-D7CaF1Y2jTN30FCdam1/view?usp=drive_link\n",
      "To: /home/jacquelineyang/augene_beauty/data_processing/kraken_data/SRR14092160.bracken\n",
      "86.5kB [00:00, 315MB/s]\n"
     ]
    },
    {
     "data": {
      "text/plain": [
       "'kraken_data/SRR14092160.bracken'"
      ]
     },
     "execution_count": 9,
     "metadata": {},
     "output_type": "execute_result"
    }
   ],
   "source": [
    "import gdown\n",
    "import os\n",
    "\n",
    "os.makedirs(\"qiiime2_data\", exist_ok=True)\n",
    "os.makedirs(\"kraken_data\", exist_ok=True)\n",
    "\n",
    "url = f'https://drive.google.com/file/d/1xRsacfCWx6TN5Eb1gZJg1Zs-_vQ2Q5SM/view?usp=drive_link'\n",
    "output = 'kraken_data/SRR14143424.bracken'\n",
    "\n",
    "gdown.download(url, output, quiet=False)\n",
    "\n",
    "url = f'https://drive.google.com/file/d/1DAREb4a206ZvBcZEybfboOSNEtoUdiPy/view?usp=drive_link'\n",
    "output = 'kraken_data/SRR14092310.bracken'\n",
    "\n",
    "gdown.download(url, output, quiet=False)\n",
    "\n",
    "url = f'https://drive.google.com/file/d/1rrQmS1tJE3gW-D7CaF1Y2jTN30FCdam1/view?usp=drive_link'\n",
    "output = 'kraken_data/SRR14092160.bracken'\n",
    "\n",
    "gdown.download(url, output, quiet=False)"
   ]
  },
  {
   "cell_type": "code",
   "execution_count": null,
   "metadata": {},
   "outputs": [],
   "source": []
  }
 ],
 "metadata": {
  "kernelspec": {
   "display_name": "Python 3",
   "language": "python",
   "name": "python3"
  },
  "language_info": {
   "codemirror_mode": {
    "name": "ipython",
    "version": 3
   },
   "file_extension": ".py",
   "mimetype": "text/x-python",
   "name": "python",
   "nbconvert_exporter": "python",
   "pygments_lexer": "ipython3",
   "version": "3.6.10"
  }
 },
 "nbformat": 4,
 "nbformat_minor": 4
}
