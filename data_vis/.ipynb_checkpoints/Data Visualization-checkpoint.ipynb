{
 "cells": [
  {
   "cell_type": "code",
   "execution_count": 33,
   "metadata": {},
   "outputs": [],
   "source": [
    "%matplotlib inline\n",
    "import numpy as np\n",
    "import matplotlib.pyplot as plt\n",
    "import seaborn as sns\n",
    "from sklearn.decomposition import PCA\n",
    "from sklearn.manifold import TSNE\n",
    "from sklearn.utils import shuffle\n",
    "import pandas as pd\n",
    "import os"
   ]
  },
  {
   "cell_type": "code",
   "execution_count": 83,
   "metadata": {},
   "outputs": [
    {
     "ename": "KeyError",
     "evalue": "'Run'",
     "output_type": "error",
     "traceback": [
      "\u001b[0;31m---------------------------------------------------------------------------\u001b[0m",
      "\u001b[0;31mKeyError\u001b[0m                                  Traceback (most recent call last)",
      "\u001b[0;32m<ipython-input-83-8f65ed8339de>\u001b[0m in \u001b[0;36m<module>\u001b[0;34m\u001b[0m\n\u001b[1;32m     17\u001b[0m \u001b[0;34m\u001b[0m\u001b[0m\n\u001b[1;32m     18\u001b[0m     \u001b[0mpruned_metadata\u001b[0m \u001b[0;34m=\u001b[0m \u001b[0mmetadata_df\u001b[0m\u001b[0;34m[\u001b[0m\u001b[0mmetadata_df\u001b[0m\u001b[0;34m[\u001b[0m\u001b[0;34m'Submission'\u001b[0m\u001b[0;34m]\u001b[0m \u001b[0;34m==\u001b[0m \u001b[0msub_num\u001b[0m\u001b[0;34m]\u001b[0m\u001b[0;34m\u001b[0m\u001b[0;34m\u001b[0m\u001b[0m\n\u001b[0;32m---> 19\u001b[0;31m     \u001b[0mprofile_df\u001b[0m \u001b[0;34m=\u001b[0m \u001b[0mpd\u001b[0m\u001b[0;34m.\u001b[0m\u001b[0mmerge\u001b[0m\u001b[0;34m(\u001b[0m\u001b[0mprofile_df\u001b[0m\u001b[0;34m,\u001b[0m \u001b[0mpruned_metadata\u001b[0m\u001b[0;34m[\u001b[0m\u001b[0;34m'Disease_condition'\u001b[0m\u001b[0;34m]\u001b[0m\u001b[0;34m,\u001b[0m \u001b[0mleft_on\u001b[0m\u001b[0;34m=\u001b[0m\u001b[0;34m'Taxon'\u001b[0m\u001b[0;34m,\u001b[0m \u001b[0mright_on\u001b[0m\u001b[0;34m=\u001b[0m\u001b[0;34m'Run'\u001b[0m\u001b[0;34m,\u001b[0m \u001b[0mhow\u001b[0m\u001b[0;34m=\u001b[0m\u001b[0;34m'left'\u001b[0m\u001b[0;34m)\u001b[0m\u001b[0;34m\u001b[0m\u001b[0;34m\u001b[0m\u001b[0m\n\u001b[0m\u001b[1;32m     20\u001b[0m     \u001b[0mprofile_df\u001b[0m \u001b[0;34m=\u001b[0m \u001b[0mpd\u001b[0m\u001b[0;34m.\u001b[0m\u001b[0mmerge\u001b[0m\u001b[0;34m(\u001b[0m\u001b[0mprofile_df\u001b[0m\u001b[0;34m,\u001b[0m \u001b[0mpruned_metadata\u001b[0m\u001b[0;34m[\u001b[0m\u001b[0;34m'Description'\u001b[0m\u001b[0;34m]\u001b[0m\u001b[0;34m,\u001b[0m \u001b[0mleft_on\u001b[0m\u001b[0;34m=\u001b[0m\u001b[0;34m'Taxon'\u001b[0m\u001b[0;34m,\u001b[0m \u001b[0mright_on\u001b[0m\u001b[0;34m=\u001b[0m\u001b[0;34m'Run'\u001b[0m\u001b[0;34m,\u001b[0m \u001b[0mhow\u001b[0m\u001b[0;34m=\u001b[0m\u001b[0;34m'left'\u001b[0m\u001b[0;34m)\u001b[0m\u001b[0;34m\u001b[0m\u001b[0;34m\u001b[0m\u001b[0m\n\u001b[1;32m     21\u001b[0m \u001b[0;34m\u001b[0m\u001b[0m\n",
      "\u001b[0;32m~/anaconda3/envs/qiime2/lib/python3.6/site-packages/pandas/core/reshape/merge.py\u001b[0m in \u001b[0;36mmerge\u001b[0;34m(left, right, how, on, left_on, right_on, left_index, right_index, sort, suffixes, copy, indicator, validate)\u001b[0m\n\u001b[1;32m     79\u001b[0m         \u001b[0mcopy\u001b[0m\u001b[0;34m=\u001b[0m\u001b[0mcopy\u001b[0m\u001b[0;34m,\u001b[0m\u001b[0;34m\u001b[0m\u001b[0;34m\u001b[0m\u001b[0m\n\u001b[1;32m     80\u001b[0m         \u001b[0mindicator\u001b[0m\u001b[0;34m=\u001b[0m\u001b[0mindicator\u001b[0m\u001b[0;34m,\u001b[0m\u001b[0;34m\u001b[0m\u001b[0;34m\u001b[0m\u001b[0m\n\u001b[0;32m---> 81\u001b[0;31m         \u001b[0mvalidate\u001b[0m\u001b[0;34m=\u001b[0m\u001b[0mvalidate\u001b[0m\u001b[0;34m,\u001b[0m\u001b[0;34m\u001b[0m\u001b[0;34m\u001b[0m\u001b[0m\n\u001b[0m\u001b[1;32m     82\u001b[0m     )\n\u001b[1;32m     83\u001b[0m     \u001b[0;32mreturn\u001b[0m \u001b[0mop\u001b[0m\u001b[0;34m.\u001b[0m\u001b[0mget_result\u001b[0m\u001b[0;34m(\u001b[0m\u001b[0;34m)\u001b[0m\u001b[0;34m\u001b[0m\u001b[0;34m\u001b[0m\u001b[0m\n",
      "\u001b[0;32m~/anaconda3/envs/qiime2/lib/python3.6/site-packages/pandas/core/reshape/merge.py\u001b[0m in \u001b[0;36m__init__\u001b[0;34m(self, left, right, how, on, left_on, right_on, axis, left_index, right_index, sort, suffixes, copy, indicator, validate)\u001b[0m\n\u001b[1;32m    624\u001b[0m             \u001b[0mself\u001b[0m\u001b[0;34m.\u001b[0m\u001b[0mright_join_keys\u001b[0m\u001b[0;34m,\u001b[0m\u001b[0;34m\u001b[0m\u001b[0;34m\u001b[0m\u001b[0m\n\u001b[1;32m    625\u001b[0m             \u001b[0mself\u001b[0m\u001b[0;34m.\u001b[0m\u001b[0mjoin_names\u001b[0m\u001b[0;34m,\u001b[0m\u001b[0;34m\u001b[0m\u001b[0;34m\u001b[0m\u001b[0m\n\u001b[0;32m--> 626\u001b[0;31m         ) = self._get_merge_keys()\n\u001b[0m\u001b[1;32m    627\u001b[0m \u001b[0;34m\u001b[0m\u001b[0m\n\u001b[1;32m    628\u001b[0m         \u001b[0;31m# validate the merge keys dtypes. We may need to coerce\u001b[0m\u001b[0;34m\u001b[0m\u001b[0;34m\u001b[0m\u001b[0;34m\u001b[0m\u001b[0m\n",
      "\u001b[0;32m~/anaconda3/envs/qiime2/lib/python3.6/site-packages/pandas/core/reshape/merge.py\u001b[0m in \u001b[0;36m_get_merge_keys\u001b[0;34m(self)\u001b[0m\n\u001b[1;32m    973\u001b[0m                     \u001b[0;32mif\u001b[0m \u001b[0;32mnot\u001b[0m \u001b[0mis_rkey\u001b[0m\u001b[0;34m(\u001b[0m\u001b[0mrk\u001b[0m\u001b[0;34m)\u001b[0m\u001b[0;34m:\u001b[0m\u001b[0;34m\u001b[0m\u001b[0;34m\u001b[0m\u001b[0m\n\u001b[1;32m    974\u001b[0m                         \u001b[0;32mif\u001b[0m \u001b[0mrk\u001b[0m \u001b[0;32mis\u001b[0m \u001b[0;32mnot\u001b[0m \u001b[0;32mNone\u001b[0m\u001b[0;34m:\u001b[0m\u001b[0;34m\u001b[0m\u001b[0;34m\u001b[0m\u001b[0m\n\u001b[0;32m--> 975\u001b[0;31m                             \u001b[0mright_keys\u001b[0m\u001b[0;34m.\u001b[0m\u001b[0mappend\u001b[0m\u001b[0;34m(\u001b[0m\u001b[0mright\u001b[0m\u001b[0;34m.\u001b[0m\u001b[0m_get_label_or_level_values\u001b[0m\u001b[0;34m(\u001b[0m\u001b[0mrk\u001b[0m\u001b[0;34m)\u001b[0m\u001b[0;34m)\u001b[0m\u001b[0;34m\u001b[0m\u001b[0;34m\u001b[0m\u001b[0m\n\u001b[0m\u001b[1;32m    976\u001b[0m                         \u001b[0;32melse\u001b[0m\u001b[0;34m:\u001b[0m\u001b[0;34m\u001b[0m\u001b[0;34m\u001b[0m\u001b[0m\n\u001b[1;32m    977\u001b[0m                             \u001b[0;31m# work-around for merge_asof(right_index=True)\u001b[0m\u001b[0;34m\u001b[0m\u001b[0;34m\u001b[0m\u001b[0;34m\u001b[0m\u001b[0m\n",
      "\u001b[0;32m~/anaconda3/envs/qiime2/lib/python3.6/site-packages/pandas/core/generic.py\u001b[0m in \u001b[0;36m_get_label_or_level_values\u001b[0;34m(self, key, axis)\u001b[0m\n\u001b[1;32m   1772\u001b[0m             \u001b[0mvalues\u001b[0m \u001b[0;34m=\u001b[0m \u001b[0mself\u001b[0m\u001b[0;34m.\u001b[0m\u001b[0maxes\u001b[0m\u001b[0;34m[\u001b[0m\u001b[0maxis\u001b[0m\u001b[0;34m]\u001b[0m\u001b[0;34m.\u001b[0m\u001b[0mget_level_values\u001b[0m\u001b[0;34m(\u001b[0m\u001b[0mkey\u001b[0m\u001b[0;34m)\u001b[0m\u001b[0;34m.\u001b[0m\u001b[0m_values\u001b[0m\u001b[0;34m\u001b[0m\u001b[0;34m\u001b[0m\u001b[0m\n\u001b[1;32m   1773\u001b[0m         \u001b[0;32melse\u001b[0m\u001b[0;34m:\u001b[0m\u001b[0;34m\u001b[0m\u001b[0;34m\u001b[0m\u001b[0m\n\u001b[0;32m-> 1774\u001b[0;31m             \u001b[0;32mraise\u001b[0m \u001b[0mKeyError\u001b[0m\u001b[0;34m(\u001b[0m\u001b[0mkey\u001b[0m\u001b[0;34m)\u001b[0m\u001b[0;34m\u001b[0m\u001b[0;34m\u001b[0m\u001b[0m\n\u001b[0m\u001b[1;32m   1775\u001b[0m \u001b[0;34m\u001b[0m\u001b[0m\n\u001b[1;32m   1776\u001b[0m         \u001b[0;31m# Check for duplicates\u001b[0m\u001b[0;34m\u001b[0m\u001b[0;34m\u001b[0m\u001b[0;34m\u001b[0m\u001b[0m\n",
      "\u001b[0;31mKeyError\u001b[0m: 'Run'"
     ]
    }
   ],
   "source": [
    "#load in qiime2 data\n",
    "microb_prof_path = os.path.join(os.getcwd(), \"qiime2_microbiome_profiles\")\n",
    "subs = os.listdir(microb_prof_path)\n",
    "subs = filter(lambda f: f.endswith('.csv'), subs)\n",
    "prof_dfs = []\n",
    "\n",
    "#load in qiime2 metadata\n",
    "metadata_df = pd.read_csv(os.path.join(os.getcwd(),\"DataFrame_2_Pruned.tsv\"), sep='\\t', engine='python')\n",
    "\n",
    "for sub in subs:\n",
    "    sub_num = sub[:-12]\n",
    "    profile_df = pd.read_csv(os.path.join(microb_prof_path, sub), engine='python')\n",
    "    profile_df.index = profile_df['Taxon']\n",
    "    profile_df = profile_df.T\n",
    "    profile_df = profile_df.drop(profile_df.index[0])\n",
    "    profile_df.rename(columns={'Taxon': 'Run'}, inplace=True)\n",
    "    \n",
    "    pruned_metadata = metadata_df[metadata_df['Submission'] == sub_num]\n",
    "    profile_df = pd.merge(profile_df, pruned_metadata['Disease_condition'], left_on='Run', right_on='Run', how='left')\n",
    "    profile_df = pd.merge(profile_df, pruned_metadata['Description'], left_on='Run', right_on='Run', how='left')\n",
    "    \n",
    "    prof_dfs.append(profile_df)\n",
    "    "
   ]
  },
  {
   "cell_type": "code",
   "execution_count": 73,
   "metadata": {},
   "outputs": [
    {
     "data": {
      "text/html": [
       "<div>\n",
       "<style scoped>\n",
       "    .dataframe tbody tr th:only-of-type {\n",
       "        vertical-align: middle;\n",
       "    }\n",
       "\n",
       "    .dataframe tbody tr th {\n",
       "        vertical-align: top;\n",
       "    }\n",
       "\n",
       "    .dataframe thead th {\n",
       "        text-align: right;\n",
       "    }\n",
       "</style>\n",
       "<table border=\"1\" class=\"dataframe\">\n",
       "  <thead>\n",
       "    <tr style=\"text-align: right;\">\n",
       "      <th>Taxon</th>\n",
       "      <th>Unassigned</th>\n",
       "      <th>k__Bacteria</th>\n",
       "      <th>k__Bacteria; p__Actinobacteria; c__Actinobacteria; o__Actinomycetales; f__Brevibacteriaceae; g__Brevibacterium; s__paucivorans</th>\n",
       "      <th>k__Bacteria; p__Actinobacteria; c__Actinobacteria; o__Actinomycetales; f__Corynebacteriaceae; g__Corynebacterium</th>\n",
       "      <th>k__Bacteria; p__Actinobacteria; c__Actinobacteria; o__Actinomycetales; f__Propionibacteriaceae; g__Propionibacterium</th>\n",
       "      <th>k__Bacteria; p__Firmicutes; c__Bacilli; o__Lactobacillales; f__Streptococcaceae; g__Streptococcus</th>\n",
       "      <th>k__Bacteria; p__OD1</th>\n",
       "      <th>k__Bacteria; p__OD1; c__; o__; f__; g__; s__</th>\n",
       "      <th>k__Bacteria; p__Proteobacteria</th>\n",
       "      <th>k__Bacteria; p__Proteobacteria; c__Alphaproteobacteria; o__Rickettsiales</th>\n",
       "      <th>k__Bacteria; p__Proteobacteria; c__Alphaproteobacteria; o__Rickettsiales; f__mitochondria</th>\n",
       "      <th>k__Bacteria; p__Proteobacteria; c__Alphaproteobacteria; o__Rickettsiales; f__mitochondria; g__; s__</th>\n",
       "      <th>k__Bacteria; p__Proteobacteria; c__Deltaproteobacteria; o__Bdellovibrionales; f__Bdellovibrionaceae; g__Bdellovibrio; s__bacteriovorus</th>\n",
       "      <th>k__Bacteria; p__Proteobacteria; c__Gammaproteobacteria</th>\n",
       "    </tr>\n",
       "  </thead>\n",
       "  <tbody>\n",
       "    <tr>\n",
       "      <th>SRR4384539</th>\n",
       "      <td>0</td>\n",
       "      <td>1</td>\n",
       "      <td>0</td>\n",
       "      <td>0</td>\n",
       "      <td>0</td>\n",
       "      <td>0</td>\n",
       "      <td>0</td>\n",
       "      <td>0</td>\n",
       "      <td>0</td>\n",
       "      <td>0</td>\n",
       "      <td>0</td>\n",
       "      <td>0</td>\n",
       "      <td>0</td>\n",
       "      <td>0</td>\n",
       "    </tr>\n",
       "    <tr>\n",
       "      <th>SRR4384540</th>\n",
       "      <td>0</td>\n",
       "      <td>0</td>\n",
       "      <td>0</td>\n",
       "      <td>0</td>\n",
       "      <td>0</td>\n",
       "      <td>0</td>\n",
       "      <td>0</td>\n",
       "      <td>0</td>\n",
       "      <td>0</td>\n",
       "      <td>0</td>\n",
       "      <td>0</td>\n",
       "      <td>1</td>\n",
       "      <td>0</td>\n",
       "      <td>0</td>\n",
       "    </tr>\n",
       "    <tr>\n",
       "      <th>SRR4384541</th>\n",
       "      <td>0</td>\n",
       "      <td>1</td>\n",
       "      <td>0</td>\n",
       "      <td>0</td>\n",
       "      <td>0</td>\n",
       "      <td>0</td>\n",
       "      <td>0</td>\n",
       "      <td>0</td>\n",
       "      <td>0</td>\n",
       "      <td>0</td>\n",
       "      <td>0</td>\n",
       "      <td>0</td>\n",
       "      <td>0</td>\n",
       "      <td>0</td>\n",
       "    </tr>\n",
       "    <tr>\n",
       "      <th>SRR4384543</th>\n",
       "      <td>0</td>\n",
       "      <td>0</td>\n",
       "      <td>0</td>\n",
       "      <td>0</td>\n",
       "      <td>0</td>\n",
       "      <td>0</td>\n",
       "      <td>0</td>\n",
       "      <td>0</td>\n",
       "      <td>0</td>\n",
       "      <td>0</td>\n",
       "      <td>0</td>\n",
       "      <td>0</td>\n",
       "      <td>0</td>\n",
       "      <td>0</td>\n",
       "    </tr>\n",
       "    <tr>\n",
       "      <th>SRR4384544</th>\n",
       "      <td>0</td>\n",
       "      <td>0</td>\n",
       "      <td>0</td>\n",
       "      <td>0</td>\n",
       "      <td>0</td>\n",
       "      <td>0</td>\n",
       "      <td>0</td>\n",
       "      <td>0</td>\n",
       "      <td>0</td>\n",
       "      <td>0</td>\n",
       "      <td>0</td>\n",
       "      <td>1</td>\n",
       "      <td>0</td>\n",
       "      <td>0</td>\n",
       "    </tr>\n",
       "  </tbody>\n",
       "</table>\n",
       "</div>"
      ],
      "text/plain": [
       "Taxon      Unassigned k__Bacteria  \\\n",
       "SRR4384539          0           1   \n",
       "SRR4384540          0           0   \n",
       "SRR4384541          0           1   \n",
       "SRR4384543          0           0   \n",
       "SRR4384544          0           0   \n",
       "\n",
       "Taxon      k__Bacteria; p__Actinobacteria; c__Actinobacteria; o__Actinomycetales; f__Brevibacteriaceae; g__Brevibacterium; s__paucivorans  \\\n",
       "SRR4384539                                                  0                                                                               \n",
       "SRR4384540                                                  0                                                                               \n",
       "SRR4384541                                                  0                                                                               \n",
       "SRR4384543                                                  0                                                                               \n",
       "SRR4384544                                                  0                                                                               \n",
       "\n",
       "Taxon      k__Bacteria; p__Actinobacteria; c__Actinobacteria; o__Actinomycetales; f__Corynebacteriaceae; g__Corynebacterium  \\\n",
       "SRR4384539                                                  0                                                                 \n",
       "SRR4384540                                                  0                                                                 \n",
       "SRR4384541                                                  0                                                                 \n",
       "SRR4384543                                                  0                                                                 \n",
       "SRR4384544                                                  0                                                                 \n",
       "\n",
       "Taxon      k__Bacteria; p__Actinobacteria; c__Actinobacteria; o__Actinomycetales; f__Propionibacteriaceae; g__Propionibacterium  \\\n",
       "SRR4384539                                                  0                                                                     \n",
       "SRR4384540                                                  0                                                                     \n",
       "SRR4384541                                                  0                                                                     \n",
       "SRR4384543                                                  0                                                                     \n",
       "SRR4384544                                                  0                                                                     \n",
       "\n",
       "Taxon      k__Bacteria; p__Firmicutes; c__Bacilli; o__Lactobacillales; f__Streptococcaceae; g__Streptococcus  \\\n",
       "SRR4384539                                                  0                                                  \n",
       "SRR4384540                                                  0                                                  \n",
       "SRR4384541                                                  0                                                  \n",
       "SRR4384543                                                  0                                                  \n",
       "SRR4384544                                                  0                                                  \n",
       "\n",
       "Taxon      k__Bacteria; p__OD1 k__Bacteria; p__OD1; c__; o__; f__; g__; s__  \\\n",
       "SRR4384539                   0                                            0   \n",
       "SRR4384540                   0                                            0   \n",
       "SRR4384541                   0                                            0   \n",
       "SRR4384543                   0                                            0   \n",
       "SRR4384544                   0                                            0   \n",
       "\n",
       "Taxon      k__Bacteria; p__Proteobacteria  \\\n",
       "SRR4384539                              0   \n",
       "SRR4384540                              0   \n",
       "SRR4384541                              0   \n",
       "SRR4384543                              0   \n",
       "SRR4384544                              0   \n",
       "\n",
       "Taxon      k__Bacteria; p__Proteobacteria; c__Alphaproteobacteria; o__Rickettsiales  \\\n",
       "SRR4384539                                                  0                         \n",
       "SRR4384540                                                  0                         \n",
       "SRR4384541                                                  0                         \n",
       "SRR4384543                                                  0                         \n",
       "SRR4384544                                                  0                         \n",
       "\n",
       "Taxon      k__Bacteria; p__Proteobacteria; c__Alphaproteobacteria; o__Rickettsiales; f__mitochondria  \\\n",
       "SRR4384539                                                  0                                          \n",
       "SRR4384540                                                  0                                          \n",
       "SRR4384541                                                  0                                          \n",
       "SRR4384543                                                  0                                          \n",
       "SRR4384544                                                  0                                          \n",
       "\n",
       "Taxon      k__Bacteria; p__Proteobacteria; c__Alphaproteobacteria; o__Rickettsiales; f__mitochondria; g__; s__  \\\n",
       "SRR4384539                                                  0                                                    \n",
       "SRR4384540                                                  1                                                    \n",
       "SRR4384541                                                  0                                                    \n",
       "SRR4384543                                                  0                                                    \n",
       "SRR4384544                                                  1                                                    \n",
       "\n",
       "Taxon      k__Bacteria; p__Proteobacteria; c__Deltaproteobacteria; o__Bdellovibrionales; f__Bdellovibrionaceae; g__Bdellovibrio; s__bacteriovorus  \\\n",
       "SRR4384539                                                  0                                                                                       \n",
       "SRR4384540                                                  0                                                                                       \n",
       "SRR4384541                                                  0                                                                                       \n",
       "SRR4384543                                                  0                                                                                       \n",
       "SRR4384544                                                  0                                                                                       \n",
       "\n",
       "Taxon      k__Bacteria; p__Proteobacteria; c__Gammaproteobacteria  \n",
       "SRR4384539                                                  0      \n",
       "SRR4384540                                                  0      \n",
       "SRR4384541                                                  0      \n",
       "SRR4384543                                                  0      \n",
       "SRR4384544                                                  0      "
      ]
     },
     "metadata": {},
     "output_type": "display_data"
    }
   ],
   "source": [
    "display(prof_dfs[0].head())"
   ]
  },
  {
   "cell_type": "code",
   "execution_count": 36,
   "metadata": {},
   "outputs": [
    {
     "name": "stdout",
     "output_type": "stream",
     "text": [
      "14\n"
     ]
    }
   ],
   "source": [
    "#add in extra values for species\n",
    "all_species = set()\n",
    "\n",
    "for df in prof_dfs:\n",
    "    all_species.update(df['Taxon'])\n",
    "    \n",
    "for df in prof_dfs:\n",
    "    existing_species = set(df['Taxon'])\n",
    "    missing_species = all_species - existing_species\n",
    "    new_rows = pd.DataFrame(0, index=range(len(missing_species)), columns=df.columns)\n",
    "    new_rows['Taxon'] = list(missing_species)\n",
    "    df = pd.concat([df, new_rows], ignore_index=True)\n",
    "    df = df.sort_values(by='Taxon')\n",
    "\n",
    "#TEST (remove later)\n",
    "for i in prof_dfs:\n",
    "    print(len(i))\n",
    "    \n",
    "    \n",
    "#concatinate all dfs   #TODOy\n",
    "full_df = prof_dfs.pop()\n",
    "for df in prof_dfs:\n",
    "    pd.merge(full_df, df, left_on='Feature ID', right_on='Feature ID', how='inner')"
   ]
  },
  {
   "cell_type": "code",
   "execution_count": 37,
   "metadata": {},
   "outputs": [
    {
     "name": "stdout",
     "output_type": "stream",
     "text": [
      "(148, 14)\n",
      "[[0.         1.         0.         ... 0.         0.         0.        ]\n",
      " [0.         0.         0.         ... 1.         0.         0.        ]\n",
      " [0.         1.         0.         ... 0.         0.         0.        ]\n",
      " ...\n",
      " [0.         0.33333333 0.         ... 0.66666667 0.         0.        ]\n",
      " [0.         0.28571429 0.         ... 0.         0.         0.71428571]\n",
      " [0.         1.         0.         ... 0.         0.         0.        ]]\n"
     ]
    }
   ],
   "source": [
    "#prep_data\n",
    "all_taxa = full_df['Taxon'].values\n",
    "no_taxon_df = full_df.drop('Taxon', axis=1)\n",
    "all_samples = no_taxon_df.columns \n",
    "all_subs_np = no_taxon_df.values.T\n",
    "\n",
    "print(all_subs_np.shape)\n",
    "print(all_subs_np)"
   ]
  },
  {
   "cell_type": "code",
   "execution_count": 38,
   "metadata": {},
   "outputs": [],
   "source": [
    "pca = PCA(n_components=4)\n",
    "pca.fit(all_subs_np)\n",
    "profile_pca = pca.transform(all_subs_np)"
   ]
  },
  {
   "cell_type": "code",
   "execution_count": 49,
   "metadata": {},
   "outputs": [
    {
     "data": {
      "image/png": "[encoded data removed]",
      "text/plain": [
       "<Figure size 720x720 with 1 Axes>"
      ]
     },
     "metadata": {
      "needs_background": "light"
     },
     "output_type": "display_data"
    }
   ],
   "source": [
    "plt.figure(figsize=(10,10))\n",
    "\n",
    "pca_plot = sns.scatterplot(\n",
    "    x=profile_pca[:,0], y=profile_pca[:,1],\n",
    "    #hue=y,\n",
    "    #palette=sns.color_palette(\"hls\", 10),\n",
    "    #legend=\"full\",\n",
    "    alpha=0.75)\n",
    "\n",
    "pca_plot.set_xlabel('PCA 1', fontsize=18)\n",
    "pca_plot.set_ylabel('PCA 2', fontsize=18)\n",
    "pca_plot.set_title(\"Microbiome Profile PCA Plot\", fontsize=18)\n",
    "\n",
    "plt.show()"
   ]
  },
  {
   "cell_type": "code",
   "execution_count": 48,
   "metadata": {},
   "outputs": [
    {
     "data": {
      "image/png": "[encoded data removed]",
      "text/plain": [
       "<Figure size 720x720 with 1 Axes>"
      ]
     },
     "metadata": {
      "needs_background": "light"
     },
     "output_type": "display_data"
    }
   ],
   "source": [
    "plt.figure(figsize=(10,10))\n",
    "\n",
    "pca_plot = sns.scatterplot(\n",
    "    x=profile_pca[:,2], y=profile_pca[:,3],\n",
    "    #hue=y,\n",
    "    #palette=sns.color_palette(\"hls\", 10),\n",
    "    #legend=\"full\",\n",
    "    alpha=0.75)\n",
    "\n",
    "pca_plot.set_xlabel('PCA 3', fontsize=18)\n",
    "pca_plot.set_ylabel('PCA 4', fontsize=18)\n",
    "pca_plot.set_title(\"Microbiome Profile PCA Plot\", fontsize=18)\n",
    "\n",
    "plt.show()"
   ]
  },
  {
   "cell_type": "code",
   "execution_count": 44,
   "metadata": {},
   "outputs": [],
   "source": [
    "#generate tSNE graphs\n",
    "tsne = TSNE(n_components=2)\n",
    "profile_tsne = tsne.fit_transform(all_subs_np)"
   ]
  },
  {
   "cell_type": "code",
   "execution_count": 50,
   "metadata": {},
   "outputs": [
    {
     "data": {
      "text/plain": [
       "Text(0.5, 1.0, 'Microbiome Profile tSNE Plot')"
      ]
     },
     "execution_count": 50,
     "metadata": {},
     "output_type": "execute_result"
    },
    {
     "data": {
      "image/png": "[encoded data removed]",
      "text/plain": [
       "<Figure size 720x720 with 1 Axes>"
      ]
     },
     "metadata": {
      "needs_background": "light"
     },
     "output_type": "display_data"
    }
   ],
   "source": [
    "plt.figure(figsize=(10,10))\n",
    "\n",
    "pca_plot = sns.scatterplot(\n",
    "    x=profile_tsne[:,0], y=profile_tsne[:,1],\n",
    "    #hue=y,\n",
    "    #palette=sns.color_palette(\"hls\", 10),\n",
    "    #legend=\"full\",\n",
    "    alpha=0.75)\n",
    "\n",
    "pca_plot.set_xlabel('tSNE 1', fontsize=18)\n",
    "pca_plot.set_ylabel('tSNE 2', fontsize=18)\n",
    "pca_plot.set_title(\"Microbiome Profile tSNE Plot\", fontsize=18)"
   ]
  },
  {
   "cell_type": "code",
   "execution_count": null,
   "metadata": {},
   "outputs": [],
   "source": []
  }
 ],
 "metadata": {
  "kernelspec": {
   "display_name": "qiime2",
   "language": "python",
   "name": "qiime2"
  },
  "language_info": {
   "codemirror_mode": {
    "name": "ipython",
    "version": 3
   },
   "file_extension": ".py",
   "mimetype": "text/x-python",
   "name": "python",
   "nbconvert_exporter": "python",
   "pygments_lexer": "ipython3",
   "version": "3.6.10"
  }
 },
 "nbformat": 4,
 "nbformat_minor": 4
}
