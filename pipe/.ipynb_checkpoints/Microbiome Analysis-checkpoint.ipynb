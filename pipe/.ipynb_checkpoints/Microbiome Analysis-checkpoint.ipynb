{
 "cells": [
  {
   "cell_type": "code",
   "execution_count": 7,
   "id": "811b7910",
   "metadata": {},
   "outputs": [
    {
     "name": "stdout",
     "output_type": "stream",
     "text": [
      "/bin/bash: line 1: activate: command not found\n"
     ]
    }
   ],
   "source": [
    "#dependencies\n",
    "#MIDAS2 setup: https://midas2.readthedocs.io/en/latest/installation.html\n",
    "#!conda activate midas2.0\n",
    "#!conda install -c bioconda fastqc --yes\n",
    "#!conda install -c bioconda multiqc --yes\n",
    "#!conda install -c bioconda trimmomatic --yes\n",
    "#!pip install ipython"
   ]
  },
  {
   "cell_type": "code",
   "execution_count": 1,
   "id": "e38470cc",
   "metadata": {},
   "outputs": [
    {
     "name": "stdout",
     "output_type": "stream",
     "text": [
      "null\n",
      "null\n"
     ]
    },
    {
     "name": "stderr",
     "output_type": "stream",
     "text": [
      "Started analysis of c2671_R1.fastq\n",
      "Approx 5% complete for c2671_R1.fastq\n",
      "Approx 10% complete for c2671_R1.fastq\n",
      "Approx 15% complete for c2671_R1.fastq\n",
      "Approx 20% complete for c2671_R1.fastq\n",
      "Approx 25% complete for c2671_R1.fastq\n",
      "Approx 30% complete for c2671_R1.fastq\n",
      "Approx 35% complete for c2671_R1.fastq\n",
      "Approx 40% complete for c2671_R1.fastq\n",
      "Approx 45% complete for c2671_R1.fastq\n",
      "Approx 50% complete for c2671_R1.fastq\n",
      "Approx 55% complete for c2671_R1.fastq\n",
      "Approx 60% complete for c2671_R1.fastq\n",
      "Approx 65% complete for c2671_R1.fastq\n",
      "Approx 70% complete for c2671_R1.fastq\n",
      "Approx 75% complete for c2671_R1.fastq\n",
      "Approx 80% complete for c2671_R1.fastq\n",
      "Approx 85% complete for c2671_R1.fastq\n",
      "Approx 90% complete for c2671_R1.fastq\n",
      "Approx 95% complete for c2671_R1.fastq\n"
     ]
    },
    {
     "name": "stdout",
     "output_type": "stream",
     "text": [
      "Analysis complete for c2671_R1.fastq\n"
     ]
    },
    {
     "name": "stderr",
     "output_type": "stream",
     "text": [
      "Started analysis of c2671_R2.fastq\n",
      "Approx 5% complete for c2671_R2.fastq\n",
      "Approx 10% complete for c2671_R2.fastq\n",
      "Approx 15% complete for c2671_R2.fastq\n",
      "Approx 20% complete for c2671_R2.fastq\n",
      "Approx 25% complete for c2671_R2.fastq\n",
      "Approx 30% complete for c2671_R2.fastq\n",
      "Approx 35% complete for c2671_R2.fastq\n",
      "Approx 40% complete for c2671_R2.fastq\n",
      "Approx 45% complete for c2671_R2.fastq\n",
      "Approx 50% complete for c2671_R2.fastq\n",
      "Approx 55% complete for c2671_R2.fastq\n",
      "Approx 60% complete for c2671_R2.fastq\n",
      "Approx 65% complete for c2671_R2.fastq\n",
      "Approx 70% complete for c2671_R2.fastq\n",
      "Approx 75% complete for c2671_R2.fastq\n",
      "Approx 80% complete for c2671_R2.fastq\n",
      "Approx 85% complete for c2671_R2.fastq\n",
      "Approx 90% complete for c2671_R2.fastq\n",
      "Approx 95% complete for c2671_R2.fastq\n"
     ]
    },
    {
     "name": "stdout",
     "output_type": "stream",
     "text": [
      "Analysis complete for c2671_R2.fastq\n"
     ]
    },
    {
     "name": "stderr",
     "output_type": "stream",
     "text": [
      "\n",
      "  \u001b[34m/\u001b[0m\u001b[32m/\u001b[0m\u001b[31m/\u001b[0m \u001b]8;id=506043;https://multiqc.info\u001b\\\u001b[1mMultiQC\u001b[0m\u001b]8;;\u001b\\ 🔍 \u001b[2m| v1.16\u001b[0m\n",
      "\n",
      "\u001b[34m|           multiqc\u001b[0m | Search path : /home/miloscola/ab/pipe/qual_rep_temp/c2671_R1_fastqc.html\n",
      "\u001b[34m|           multiqc\u001b[0m | Search path : /home/miloscola/ab/pipe/qual_rep_temp/c2671_R1_fastqc.zip\n",
      "\u001b[34m|           multiqc\u001b[0m | Search path : /home/miloscola/ab/pipe/qual_rep_temp/c2671_R2_fastqc.html\n",
      "\u001b[34m|           multiqc\u001b[0m | Search path : /home/miloscola/ab/pipe/qual_rep_temp/c2671_R2_fastqc.zip\n",
      "\u001b[2K\u001b[34m|\u001b[0m         \u001b[34msearching\u001b[0m | \u001b[90m━━━━━━━━━━━━━━━━━━━━━━━━━━━━━━━━━━━━━━━━\u001b[0m \u001b[35m100%\u001b[0m \u001b[32m4/4\u001b[0m  0/4\u001b[0m  \n",
      "\u001b[?25h\u001b[34m|            fastqc\u001b[0m | Found 2 reports\n",
      "\u001b[34m|           multiqc\u001b[0m | Existing reports found, adding suffix to filenames. Use '--force' to overwrite.\n",
      "\u001b[34m|           multiqc\u001b[0m | Report      : combined_quality_reports/multiqc_report_3.html\n",
      "\u001b[34m|           multiqc\u001b[0m | Data        : combined_quality_reports/multiqc_data_3\n",
      "\u001b[34m|           multiqc\u001b[0m | MultiQC complete\n"
     ]
    }
   ],
   "source": [
    "%%bash\n",
    "#generate quality report\n",
    "fastqc untrimmed_fastq/* -o qual_rep_temp\n",
    "multiqc qual_rep_temp/* -o combined_quality_reports\n",
    "rm qual_rep_temp/*"
   ]
  },
  {
   "cell_type": "code",
   "execution_count": 2,
   "id": "a5c8b627",
   "metadata": {},
   "outputs": [
    {
     "name": "stderr",
     "output_type": "stream",
     "text": [
      "TrimmomaticPE: Started with arguments:\n",
      " c2671_R1.fastq c2671_R2.fastq c2671_R1.trim.fastq c2671_R1un.trim.fastq c2671_R2.trim.fastq c2671_R2un.trim.fastq SLIDINGWINDOW:4:20 MINLEN:25\n",
      "Quality encoding detected as phred33\n",
      "Input Read Pairs: 50040 Both Surviving: 43094 (86.12%) Forward Only Surviving: 5194 (10.38%) Reverse Only Surviving: 949 (1.90%) Dropped: 803 (1.60%)\n",
      "TrimmomaticPE: Completed successfully\n"
     ]
    }
   ],
   "source": [
    "%%bash\n",
    "#clean data\n",
    "cd untrimmed_fastq\n",
    "for infile in *_R1.fastq\n",
    " do\n",
    "   base=$(basename ${infile} _R1.fastq)\n",
    "   trimmomatic PE ${infile} ${base}_R2.fastq \\\n",
    "                ${base}_R1.trim.fastq ${base}_R1un.trim.fastq \\\n",
    "                ${base}_R2.trim.fastq ${base}_R2un.trim.fastq \\\n",
    "                SLIDINGWINDOW:4:20 MINLEN:25 #ILLUMINACLIP:NexteraPE-PE.fa:2:40:15 \n",
    " done\n",
    " cd ..\n",
    " #move data into proper files TODO: make folder for processed fastq files\n",
    "mv untrimmed_fastq/*un.trim.fastq removed_seq\n",
    "mv untrimmed_fastq/*.trim.fastq reads"
   ]
  },
  {
   "cell_type": "code",
   "execution_count": 14,
   "id": "b6a68c7c",
   "metadata": {},
   "outputs": [
    {
     "name": "stderr",
     "output_type": "stream",
     "text": [
      "1696989592.2:  Single sample abundant species profiling in subcommand run_species with args\n",
      "1696989592.2:  {\n",
      "1696989592.2:      \"subcommand\": \"run_species\",\n",
      "1696989592.2:      \"force\": false,\n",
      "1696989592.2:      \"debug\": false,\n",
      "1696989592.2:      \"zzz_worker_mode\": false,\n",
      "1696989592.2:      \"batch_branch\": \"master\",\n",
      "1696989592.2:      \"batch_memory\": 378880,\n",
      "1696989592.2:      \"batch_vcpus\": 48,\n",
      "1696989592.2:      \"batch_queue\": \"pairani\",\n",
      "1696989592.2:      \"batch_ecr_image\": \"pairani:latest\",\n",
      "1696989592.2:      \"midas_outdir\": \"midas2_output\",\n",
      "1696989592.2:      \"sample_name\": \"c2671\",\n",
      "1696989592.2:      \"r1\": \"reads/c2671_R1.trim.fastq\",\n",
      "1696989592.2:      \"r2\": null,\n",
      "1696989592.2:      \"midasdb_name\": \"uhgg\",\n",
      "1696989592.2:      \"midasdb_dir\": \"my_midasdb_uhgg\",\n",
      "1696989592.2:      \"word_size\": 28,\n",
      "1696989592.2:      \"aln_mapid\": null,\n",
      "1696989592.2:      \"aln_cov\": 0.75,\n",
      "1696989592.2:      \"marker_reads\": 2,\n",
      "1696989592.2:      \"marker_covered\": 2,\n",
      "1696989592.2:      \"max_reads\": null,\n",
      "1696989592.2:      \"num_cores\": 4\n",
      "1696989592.2:  }\n",
      "1696989592.2:  Create OUTPUT directory for c2671.\n",
      "1696989592.2:  'rm -rf midas2_output/c2671/species'\n",
      "1696989592.2:  'mkdir -p midas2_output/c2671/species'\n",
      "1696989592.2:  Create TEMP directory for c2671.\n",
      "1696989592.2:  'rm -rf midas2_output/c2671/temp/species'\n",
      "1696989592.2:  'mkdir -p midas2_output/c2671/temp/species'\n",
      "1696989592.2:  MIDAS2::fetch_midasdb_files::start\n",
      "1696989654.3:  MIDAS2::fetch_midasdb_files::finish\n",
      "1696989654.3:  MIDAS2::map_reads_hsblastn::start\n",
      "[HS-BLASTN] Loading database.\n",
      "\tLoading /home/miloscola/ab/pipe/my_midasdb_uhgg/markers/phyeco/phyeco.fa.sequence, size = 0.04GB\n",
      "\tLoading /home/miloscola/ab/pipe/my_midasdb_uhgg/markers/phyeco/phyeco.fa.bwt, size = 0.4GB\n",
      "\tLoading /home/miloscola/ab/pipe/my_midasdb_uhgg/markers/phyeco/phyeco.fa.sa, size = 0.08GB\n",
      "[HS-BLASTN] done. Time elapsed: 0.26 secs.\n",
      "\n",
      "\n",
      "[HS-BLASTN] Processing /dev/stdin.\n",
      "\tProcessing 32000 queries.\n",
      "1696989655.1:  parse_reads:: parsed 43094 reads from reads/c2671_R1.trim.fastq\n",
      "\tProcessing 11094 queries.\n",
      "\n",
      "\n",
      "\n",
      "[HS-BLASTN] done. Elpased time: 0.5821 secs.\n",
      "[HS-BLASTN] 43094 queries processed.\n",
      "\n",
      "[CMD] hs-blastn align -outfmt 6 -num_threads 4 -evalue 1e-3 -word_size 28 -query /dev/stdin -db /home/miloscola/ab/pipe/my_midasdb_uhgg/markers/phyeco/phyeco.fa \n",
      "1696989655.2:  MIDAS2::map_reads_hsblastn::finish\n",
      "1696989655.2:  MIDAS2::read in marker information::start\n",
      "1696989656.5:  MIDAS2::read in marker information::finish\n",
      "1696989656.5:  MIDAS2::find_best_hits::start\n",
      "1696989656.5:    total alignments: 3530\n",
      "1696989656.5:  MIDAS2::find_best_hits::finish\n",
      "1696989656.5:  MIDAS2::assign_unique::start\n",
      "1696989656.5:   uniquely mapped reads: 0\n",
      "1696989656.5:   ambiguously mapped reads: 0\n",
      "1696989656.5:  MIDAS2::assign_unique::finish\n",
      "1696989656.5:  MIDAS2::assign_non_unique::start\n",
      "1696989656.5:  MIDAS2::assign_non_unique::finish\n",
      "1696989656.5:  MIDAS2::normalize_counts::start\n",
      "1696989656.5:    total marker-gene coverage 0.000\n",
      "1696989656.5:  MIDAS2::normalize_counts::finish\n"
     ]
    }
   ],
   "source": [
    "%%bash\n",
    "#run MIDAS2\n",
    "for sample_name in reads/*_R1.trim.fastq\n",
    " do\n",
    "  base=$(basename ${sample_name} _R1.trim.fastq)\n",
    "  midas2 run_species \\\n",
    "      --sample_name ${base} \\\n",
    "      -1 reads/${base}_R1.trim.fastq \\\n",
    "      --midasdb_name uhgg \\\n",
    "      --midasdb_dir my_midasdb_uhgg \\\n",
    "      --num_cores 4 \\\n",
    "      midas2_output\n",
    "  done"
   ]
  },
  {
   "cell_type": "code",
   "execution_count": null,
   "id": "0b0f7c11",
   "metadata": {},
   "outputs": [],
   "source": []
  }
 ],
 "metadata": {
  "kernelspec": {
   "display_name": "Python (midas2.0)",
   "language": "python",
   "name": "midas2.0"
  },
  "language_info": {
   "codemirror_mode": {
    "name": "ipython",
    "version": 3
   },
   "file_extension": ".py",
   "mimetype": "text/x-python",
   "name": "python",
   "nbconvert_exporter": "python",
   "pygments_lexer": "ipython3",
   "version": "3.9.18"
  }
 },
 "nbformat": 4,
 "nbformat_minor": 5
}
