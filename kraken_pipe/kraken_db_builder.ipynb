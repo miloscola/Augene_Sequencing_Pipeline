{
 "cells": [
  {
   "cell_type": "code",
   "execution_count": 1,
   "id": "a355f091",
   "metadata": {},
   "outputs": [
    {
     "name": "stderr",
     "output_type": "stream",
     "text": [
      "Step 1/2: Performing rsync file transfer of requested files\n",
      "Rsync file transfer complete.\n",
      "Step 2/2: Assigning taxonomic IDs to sequences\n",
      "All files processed, cleaning up extra sequence files... done, library complete.\n",
      "Masking low-complexity regions of downloaded library... done.\n",
      "Step 1/2: Performing rsync file transfer of requested files\n",
      "rsync: [receiver] read error: Connection reset by peer (104)\n",
      "rsync error: error in socket IO (code 10) at io.c(806) [receiver=3.2.7]\n",
      "rsync: connection unexpectedly closed (7176062 bytes received so far) [generator]\n",
      "rsync error: error in rsync protocol data stream (code 12) at io.c(231) [generator=3.2.7]\n",
      "rsync_from_ncbi.pl: rsync error, exiting: 3072\n",
      "Step 1/2: Performing rsync file transfer of requested files\n",
      "Rsync file transfer complete.\n",
      "Step 2/2: Assigning taxonomic IDs to sequences\n",
      "All files processed, cleaning up extra sequence files... done, library complete.\n",
      "Masking low-complexity regions of downloaded library... done.\n"
     ]
    }
   ],
   "source": [
    "%%bash\n",
    "cd my_kraken_db\n",
    "\n",
    "#set up standard database\n",
    "kraken2-build --db krakendb --download-taxonomy\n",
    "kraken2-build --download-library archaea --db krakendb\n",
    "kraken2-build --download-library bacteria --db krakendb\n",
    "kraken2-build --download-library fungi --db krakendb\n",
    "\n",
    "cd .."
   ]
  },
  {
   "cell_type": "code",
   "execution_count": 2,
   "id": "422f638d",
   "metadata": {},
   "outputs": [
    {
     "name": "stderr",
     "output_type": "stream",
     "text": [
      "Masking low-complexity regions of new file... done.\n",
      "Added \"Custom_Genomes/GCA_000007205.1.fna\" to library (krakendb)\n",
      "Masking low-complexity regions of new file... done.\n",
      "Added \"Custom_Genomes/GCA_000013425.1.fna\" to library (krakendb)\n",
      "Masking low-complexity regions of new file... done.\n",
      "Added \"Custom_Genomes/GCA_000013425.1_ASM1342v1_genomic.fna\" to library (krakendb)\n",
      "Masking low-complexity regions of new file... done.\n",
      "Added \"Custom_Genomes/GCA_000014765.1_ASM1476v1_genomic.fna\" to library (krakendb)\n",
      "Masking low-complexity regions of new file... done.\n",
      "Added \"Custom_Genomes/GCA_000023145.1.fna\" to library (krakendb)\n",
      "Masking low-complexity regions of new file... done.\n",
      "Added \"Custom_Genomes/GCA_000181695.2_ASM18169v2_genomic.fna\" to library (krakendb)\n",
      "Masking low-complexity regions of new file... done.\n",
      "Added \"Custom_Genomes/GCA_000240185.2.fna\" to library (krakendb)\n",
      "Masking low-complexity regions of new file... done.\n",
      "Added \"Custom_Genomes/GCA_000376705.1.fna\" to library (krakendb)\n",
      "Masking low-complexity regions of new file... done.\n",
      "Added \"Custom_Genomes/GCA_001552035.1.fna\" to library (krakendb)\n",
      "Masking low-complexity regions of new file... done.\n",
      "Added \"Custom_Genomes/GCA_001586235.1.fna\" to library (krakendb)\n",
      "Masking low-complexity regions of new file... done.\n",
      "Added \"Custom_Genomes/GCA_003703885.1_ASM370388v1_genomic.fna\" to library (krakendb)\n",
      "Masking low-complexity regions of new file... done.\n",
      "Added \"Custom_Genomes/GCA_006094375.1.fna\" to library (krakendb)\n",
      "Masking low-complexity regions of new file... done.\n",
      "Added \"Custom_Genomes/GCA_009913655.1_ASM991365v1_genomic.fna\" to library (krakendb)\n",
      "Masking low-complexity regions of new file... done.\n",
      "Added \"Custom_Genomes/GCA_016728725.1_ASM1672872v1_genomic.fna\" to library (krakendb)\n",
      "Masking low-complexity regions of new file... done.\n",
      "Added \"Custom_Genomes/GCA_017821535.1.fna\" to library (krakendb)\n",
      "Masking low-complexity regions of new file... done.\n",
      "Added \"Custom_Genomes/GCA_018332875.1.fna\" to library (krakendb)\n",
      "Masking low-complexity regions of new file... done.\n",
      "Added \"Custom_Genomes/GCA_019890915.1.fna\" to library (krakendb)\n",
      "Masking low-complexity regions of new file... done.\n",
      "Added \"Custom_Genomes/GCA_023520795.1.fna\" to library (krakendb)\n",
      "Masking low-complexity regions of new file... done.\n",
      "Added \"Custom_Genomes/GCA_025272815.1_ASM2527281v1_genomic.fna\" to library (krakendb)\n",
      "Masking low-complexity regions of new file... done.\n",
      "Added \"Custom_Genomes/GCA_900475035.1.fna\" to library (krakendb)\n",
      "Masking low-complexity regions of new file... done.\n",
      "Added \"Custom_Genomes/GCF_003290485.1_ASM329048v1_genomic.fna\" to library (krakendb)\n"
     ]
    }
   ],
   "source": [
    "%%bash\n",
    "cd my_kraken_db\n",
    "\n",
    "#add custom species\n",
    "for file in Custom_Genomes/*; do\n",
    "    kraken2-build --db krakendb --add-to-library $file\n",
    "done\n",
    "\n",
    "cd .."
   ]
  },
  {
   "cell_type": "code",
   "execution_count": null,
   "id": "edb0e96a",
   "metadata": {},
   "outputs": [],
   "source": [
    "%%bash\n",
    "cd my_kraken_db\n",
    "\n",
    "\n",
    "\n",
    "#generate indicies\n",
    "kraken2-build --db krakendb --build --threads 8 --kmer-len 46 --minimizer-len 31 #error: my computer does not have enouth RAM (73GB needed)\n",
    "bracken-build -d krakendb -t 8 -k 40 -l 100\n",
    "\n",
    "cd .."
   ]
  },
  {
   "cell_type": "code",
   "execution_count": null,
   "id": "782a6717",
   "metadata": {},
   "outputs": [],
   "source": []
  }
 ],
 "metadata": {
  "kernelspec": {
   "display_name": "kraken2",
   "language": "python",
   "name": "kraken2"
  },
  "language_info": {
   "codemirror_mode": {
    "name": "ipython",
    "version": 3
   },
   "file_extension": ".py",
   "mimetype": "text/x-python",
   "name": "python",
   "nbconvert_exporter": "python",
   "pygments_lexer": "ipython3",
   "version": "3.12.0"
  }
 },
 "nbformat": 4,
 "nbformat_minor": 5
}
