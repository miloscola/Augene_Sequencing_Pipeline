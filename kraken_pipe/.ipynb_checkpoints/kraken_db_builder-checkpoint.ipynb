{
 "cells": [
  {
   "cell_type": "code",
   "execution_count": 11,
   "id": "a355f091",
   "metadata": {},
   "outputs": [
    {
     "name": "stdout",
     "output_type": "stream",
     "text": [
      "Creating sequence ID to taxonomy ID map (step 1)...\n"
     ]
    },
    {
     "name": "stderr",
     "output_type": "stream",
     "text": [
      "Found 100/100 targets, searched through 436490445 accession IDs, search complete.\n"
     ]
    },
    {
     "name": "stdout",
     "output_type": "stream",
     "text": [
      "Sequence ID to taxonomy ID map complete. [51.082s]\n",
      "Estimating required capacity (step 2)...\n",
      "Estimated hash table requirement: 73806807040 bytes\n",
      "Capacity estimation complete. [16m3.790s]\n",
      "Building database files (step 3)...\n"
     ]
    },
    {
     "name": "stderr",
     "output_type": "stream",
     "text": [
      "Taxonomy parsed and converted.\n",
      "Failed attempt to allocate 73806807040bytes;\n",
      "you may not have enough free memory to build this database.\n",
      "Perhaps increasing the k-mer length, or reducing memory usage from\n",
      "other programs could help you build this database?\n",
      "build_db: unable to allocate hash table memory\n",
      "xargs: cat: terminated by signal 13\n"
     ]
    },
    {
     "name": "stdout",
     "output_type": "stream",
     "text": [
      " >> Selected Options:\n",
      "       kmer length = 35\n",
      "       read length = 100\n",
      "       database    = krakendb\n",
      "       threads     = 8\n",
      "       kraken type = kraken2\n",
      " >> Checking for Valid Options...\n",
      " ERROR: Kraken2 Database incomplete: krakendb/hash.k2d does not exist\n"
     ]
    }
   ],
   "source": [
    "%%bash\n",
    "cd my_kraken_db\n",
    "\n",
    "#set up standard database\n",
    "kraken2-build --db krakendb --download-taxonomy\n",
    "kraken2-build --download-library archaea --db krakendb\n",
    "kraken2-build --download-library bacteria --db krakendb\n",
    "kraken2-build --download-library fungi --db krakendb"
   ]
  },
  {
   "cell_type": "code",
   "execution_count": null,
   "id": "422f638d",
   "metadata": {},
   "outputs": [],
   "source": [
    "#add custom species\n",
    "for file in Custom_Genomes/*; do\n",
    "    kraken2-build --db krakendb --add-to-library $file\n",
    "done"
   ]
  },
  {
   "cell_type": "code",
   "execution_count": null,
   "id": "edb0e96a",
   "metadata": {},
   "outputs": [],
   "source": [
    "#generate indicies\n",
    "kraken2-build --db krakendb --build --threads 8 #error: my computer does not have enouth RAM (73GB needed)\n",
    "bracken-build -d krakendb -t 8 -k 35 -l 100"
   ]
  }
 ],
 "metadata": {
  "kernelspec": {
   "display_name": "kraken2",
   "language": "python",
   "name": "kraken2"
  },
  "language_info": {
   "codemirror_mode": {
    "name": "ipython",
    "version": 3
   },
   "file_extension": ".py",
   "mimetype": "text/x-python",
   "name": "python",
   "nbconvert_exporter": "python",
   "pygments_lexer": "ipython3",
   "version": "3.12.0"
  }
 },
 "nbformat": 4,
 "nbformat_minor": 5
}
